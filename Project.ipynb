{
 "cells": [
  {
   "cell_type": "markdown",
   "id": "0e0be53e-0d8a-44f1-8922-95bb8ee93322",
   "metadata": {},
   "source": [
    "# All dependencies"
   ]
  },
  {
   "cell_type": "code",
   "execution_count": null,
   "id": "93305f75-753c-4264-9db8-49772da62c8f",
   "metadata": {},
   "outputs": [],
   "source": [
    "import pandas as pd\n",
    "import numpy as np\n",
    "from surprise import Dataset, Reader, SVD\n",
    "from surprise.model_selection import train_test_split\n",
    "from surprise import accuracy"
   ]
  },
  {
   "cell_type": "markdown",
   "id": "6076cba3-5979-4d49-a233-a7eab8d8a2d1",
   "metadata": {},
   "source": [
    "## Reading data"
   ]
  },
  {
   "cell_type": "code",
   "execution_count": 1,
   "id": "84f953a8",
   "metadata": {},
   "outputs": [
    {
     "name": "stdout",
     "output_type": "stream",
     "text": [
      "   movieId                               title  \\\n",
      "0        1                    Toy Story (1995)   \n",
      "1        2                      Jumanji (1995)   \n",
      "2        3             Grumpier Old Men (1995)   \n",
      "3        4            Waiting to Exhale (1995)   \n",
      "4        5  Father of the Bride Part II (1995)   \n",
      "\n",
      "                                        genres  \n",
      "0  Adventure|Animation|Children|Comedy|Fantasy  \n",
      "1                   Adventure|Children|Fantasy  \n",
      "2                               Comedy|Romance  \n",
      "3                         Comedy|Drama|Romance  \n",
      "4                                       Comedy  \n"
     ]
    }
   ],
   "source": [
    "import pandas as pd\n",
    "ratings = pd.read_csv('datasets/ml-25m/ratings.csv')\n",
    "movies = pd.read_csv('datasets/ml-25m/movies.csv')\n",
    "print(movies.head())"
   ]
  },
  {
   "cell_type": "markdown",
   "id": "6494283e-f054-4e8d-ab6b-e3e1d2788fe4",
   "metadata": {},
   "source": [
    "## Preprocessing data"
   ]
  },
  {
   "cell_type": "code",
   "execution_count": 2,
   "id": "854f01f9-51b2-4589-b201-f2c9c754b131",
   "metadata": {},
   "outputs": [],
   "source": [
    "# Preprocessing (Py3.11 compatible)\n",
    "movies['genres'] = movies['genres'].str.split('|')  # Convert genres to list\n",
    "ratings = ratings.merge(movies[['movieId', 'genres']], on='movieId')\n",
    "\n",
    "# Filter active users/movies (min 50 ratings)\n",
    "min_ratings = 50\n",
    "active_users = ratings['userId'].value_counts()[ratings['userId'].value_counts() >= min_ratings].index\n",
    "ratings_filtered = ratings[ratings['userId'].isin(active_users)]"
   ]
  },
  {
   "cell_type": "markdown",
   "id": "17610a91-5f20-44a8-9981-a4d55f05b786",
   "metadata": {},
   "source": [
    "## Model Training (Collaborative Filtering)"
   ]
  },
  {
   "cell_type": "code",
   "execution_count": 5,
   "id": "8fd6a663-b96f-44ec-a269-2c9c972f3a16",
   "metadata": {},
   "outputs": [
    {
     "name": "stdout",
     "output_type": "stream",
     "text": [
      "RMSE: 0.7651\n"
     ]
    },
    {
     "data": {
      "text/plain": [
       "0.7651408890599997"
      ]
     },
     "execution_count": 5,
     "metadata": {},
     "output_type": "execute_result"
    }
   ],
   "source": [
    "from surprise import Dataset, Reader, SVD\n",
    "from surprise.model_selection import train_test_split \n",
    "\n",
    "# Load data into Surprise format\n",
    "reader = Reader(rating_scale=(0.5, 5.0))\n",
    "data = Dataset.load_from_df(ratings_filtered[['userId', 'movieId', 'rating']], reader)\n",
    "\n",
    "# Train-test split\n",
    "trainset, testset = train_test_split(data, test_size=0.2, random_state=42)\n",
    "\n",
    "# Train SVD model\n",
    "model = SVD(n_factors=100, n_epochs=20, random_state=42)\n",
    "model.fit(trainset)\n",
    "\n",
    "# Evaluate\n",
    "from surprise import accuracy\n",
    "predictions = model.test(testset)\n",
    "accuracy.rmse(predictions)  # Target RMSE < 0.90"
   ]
  },
  {
   "cell_type": "code",
   "execution_count": 12,
   "id": "76df508d-7504-4a16-acf4-e1407b229eec",
   "metadata": {},
   "outputs": [],
   "source": [
    "import pickle\n",
    "# Save\n",
    "pickle.dump(model, open(\"model.pkl\", \"wb\"))"
   ]
  },
  {
   "cell_type": "markdown",
   "id": "276597e4-3773-4786-9528-d06e257a0be3",
   "metadata": {},
   "source": [
    "## Function for making recommendations"
   ]
  },
  {
   "cell_type": "code",
   "execution_count": 10,
   "id": "de7eae21-a75f-4987-b9de-ebfcfbab4fbd",
   "metadata": {},
   "outputs": [],
   "source": [
    "survey_data = pd.read_csv('datasets/survey.csv')  # Load from file\n",
    "\n",
    "# Hybrid recommender function\n",
    "def hybrid_recommend(user_id, n=5):\n",
    "    # Collaborative Filtering predictions\n",
    "    all_movies = ratings['movieId'].unique()\n",
    "    cf_predictions = [model.predict(user_id, mid).est for mid in all_movies]\n",
    "    \n",
    "    # Content-based boosting (if user exists in survey)\n",
    "    if user_id in survey_data['userId'].values:\n",
    "        user_row = survey_data[survey_data['userId'] == user_id].iloc[0]\n",
    "        # Get genre weights (e.g., action_rating, comedy_rating from CSV)\n",
    "        genre_weights = {\n",
    "            'Action': user_row['action_rating'],\n",
    "            'Comedy': user_row['comedy_rating'],\n",
    "            'Sci-Fi': user_row['sci_fi_rating']\n",
    "        }\n",
    "        # Score movies by genre alignment\n",
    "        genre_scores = movies['genres'].apply(\n",
    "            lambda g: sum(genre_weights.get(genre, 0) for genre in g)\n",
    "        )\n",
    "    else:\n",
    "        genre_scores = 0  # Default if no survey data\n",
    "    \n",
    "    # Combine scores (60% CF + 40% genre)\n",
    "    combined_scores = 0.6 * np.array(cf_predictions) + 0.4 * genre_scores\n",
    "    top_indices = np.argsort(combined_scores)[-n:][::-1]\n",
    "    return movies.iloc[top_indices]['title']"
   ]
  },
  {
   "cell_type": "code",
   "execution_count": 11,
   "id": "63006e58-20fc-4a32-95a2-b0f98ba7d856",
   "metadata": {},
   "outputs": [
    {
     "name": "stderr",
     "output_type": "stream",
     "text": [
      "2025-04-19 11:18:13.091 \n",
      "  \u001b[33m\u001b[1mWarning:\u001b[0m to view this Streamlit app on a browser, run it with the following\n",
      "  command:\n",
      "\n",
      "    streamlit run C:\\Users\\danis\\anaconda3\\envs\\movie_rec\\Lib\\site-packages\\ipykernel_launcher.py [ARGUMENTS]\n"
     ]
    }
   ],
   "source": [
    "# app.py\n",
    "import streamlit as st\n",
    "\n",
    "st.title(\"🎬 Movie Recommender (Python 3.11)\")\n",
    "user_id = st.number_input(\"Enter User ID\", min_value=1, max_value=ratings['userId'].max())\n",
    "\n",
    "if st.button(\"Recommend\"):\n",
    "    recommendations = hybrid_recommend(int(user_id))\n",
    "    st.write(\"Top Recommendations:\")\n",
    "    for movie in recommendations:\n",
    "        st.write(f\"- {movie}\")"
   ]
  },
  {
   "cell_type": "code",
   "execution_count": null,
   "id": "27374693-b401-460d-8592-7756e9f53889",
   "metadata": {},
   "outputs": [],
   "source": []
  },
  {
   "cell_type": "code",
   "execution_count": null,
   "id": "cc7bc8f8-2d3e-49ef-b3db-94fb5b93e83d",
   "metadata": {},
   "outputs": [],
   "source": []
  }
 ],
 "metadata": {
  "kernelspec": {
   "display_name": "Python 3 (ipykernel)",
   "language": "python",
   "name": "python3"
  },
  "language_info": {
   "codemirror_mode": {
    "name": "ipython",
    "version": 3
   },
   "file_extension": ".py",
   "mimetype": "text/x-python",
   "name": "python",
   "nbconvert_exporter": "python",
   "pygments_lexer": "ipython3",
   "version": "3.11.11"
  }
 },
 "nbformat": 4,
 "nbformat_minor": 5
}
